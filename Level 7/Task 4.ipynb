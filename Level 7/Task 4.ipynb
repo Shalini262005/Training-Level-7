{
 "cells": [
  {
   "cell_type": "code",
   "execution_count": 1,
   "metadata": {},
   "outputs": [],
   "source": [
    "from scipy.stats import chisquare\n",
    "import pyforest"
   ]
  },
  {
   "cell_type": "code",
   "execution_count": 4,
   "metadata": {},
   "outputs": [
    {
     "data": {
      "text/plain": [
       "([121, 288, 91], [100, 150, 250])"
      ]
     },
     "execution_count": 4,
     "metadata": {},
     "output_type": "execute_result"
    }
   ],
   "source": [
    "observed=[121,288,91]\n",
    "expected=[100,150,250]\n",
    "observed,expected"
   ]
  },
  {
   "cell_type": "code",
   "execution_count": 8,
   "metadata": {},
   "outputs": [
    {
     "name": "stdout",
     "output_type": "stream",
     "text": [
      "Chi-square=232.494,p=3.270162712012095e-51\n",
      "Reject H₀; age distribution changed.\n"
     ]
    }
   ],
   "source": [
    "chi_stat,p_value=chisquare(observed,expected)\n",
    "print(f'Chi-square={chi_stat},p={p_value}')\n",
    "if p_value<0.05:\n",
    "    print(\"Reject H₀; age distribution changed.\")\n",
    "else:\n",
    "    print(\"Accept H₀\")"
   ]
  }
 ],
 "metadata": {
  "kernelspec": {
   "display_name": "Python 3",
   "language": "python",
   "name": "python3"
  },
  "language_info": {
   "codemirror_mode": {
    "name": "ipython",
    "version": 3
   },
   "file_extension": ".py",
   "mimetype": "text/x-python",
   "name": "python",
   "nbconvert_exporter": "python",
   "pygments_lexer": "ipython3",
   "version": "3.12.5"
  }
 },
 "nbformat": 4,
 "nbformat_minor": 2
}
