{
 "cells": [
  {
   "cell_type": "code",
   "execution_count": 1,
   "metadata": {},
   "outputs": [],
   "source": [
    "import scipy.stats as stats\n",
    "import pyforest"
   ]
  },
  {
   "cell_type": "code",
   "execution_count": 2,
   "metadata": {},
   "outputs": [],
   "source": [
    "height=[160, 170, 180, 175]\n",
    "weight=[60, 70, 75, 65]"
   ]
  },
  {
   "cell_type": "code",
   "execution_count": 9,
   "metadata": {},
   "outputs": [
    {
     "name": "stdout",
     "output_type": "stream",
     "text": [
      "Pearson=0.83\n",
      "Spearman=0.80\n"
     ]
    }
   ],
   "source": [
    "pearson_corr=stats.pearsonr(height,weight)[0]\n",
    "spearman_corr=stats.spearmanr(height,weight)[0]\n",
    "print(f'Pearson={pearson_corr:.2f}')\n",
    "print(f'Spearman={spearman_corr:.2f}')"
   ]
  },
  {
   "cell_type": "code",
   "execution_count": 10,
   "metadata": {},
   "outputs": [
    {
     "name": "stdout",
     "output_type": "stream",
     "text": [
      "Both show positive correlation; Pearson higher due to near-linear relationship\n"
     ]
    }
   ],
   "source": [
    "if pearson_corr>0 and spearman_corr>0:\n",
    "    print(\"Both show positive correlation; Pearson higher due to near-linear relationship\")\n",
    "else:\n",
    "    print(\"There is a negative correlation\")"
   ]
  }
 ],
 "metadata": {
  "kernelspec": {
   "display_name": "Python 3",
   "language": "python",
   "name": "python3"
  },
  "language_info": {
   "codemirror_mode": {
    "name": "ipython",
    "version": 3
   },
   "file_extension": ".py",
   "mimetype": "text/x-python",
   "name": "python",
   "nbconvert_exporter": "python",
   "pygments_lexer": "ipython3",
   "version": "3.12.5"
  }
 },
 "nbformat": 4,
 "nbformat_minor": 2
}
